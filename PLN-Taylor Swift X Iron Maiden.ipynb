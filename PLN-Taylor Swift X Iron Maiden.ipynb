{
 "cells": [
  {
   "cell_type": "code",
   "execution_count": 47,
   "metadata": {},
   "outputs": [],
   "source": [
    "import pandas as pd\n",
    "import re"
   ]
  },
  {
   "cell_type": "code",
   "execution_count": 48,
   "metadata": {},
   "outputs": [],
   "source": [
    "df_maiden = pd.read_csv('maiden.csv')\n",
    "df_ts = pd.read_csv('ts.csv')"
   ]
  },
  {
   "cell_type": "code",
   "execution_count": 49,
   "metadata": {},
   "outputs": [],
   "source": [
    "df_ts = df_ts.rename(columns={'album_name': 'album', 'track_title': 'title'})"
   ]
  },
  {
   "cell_type": "code",
   "execution_count": 50,
   "metadata": {},
   "outputs": [],
   "source": [
    "df_maiden['artist'] = 'm'\n",
    "df_ts['artist'] = 't'"
   ]
  },
  {
   "cell_type": "code",
   "execution_count": 51,
   "metadata": {},
   "outputs": [],
   "source": [
    "df_geral = pd.concat([df_maiden, df_ts], axis=0).reset_index(drop=True)"
   ]
  },
  {
   "cell_type": "code",
   "execution_count": 52,
   "metadata": {},
   "outputs": [
    {
     "name": "stdout",
     "output_type": "stream",
     "text": [
      "t    163\n",
      "m    141\n",
      "Name: artist, dtype: int64\n"
     ]
    }
   ],
   "source": [
    "num_classes = df_geral['artist'].value_counts()\n",
    "print(num_classes)"
   ]
  },
  {
   "cell_type": "code",
   "execution_count": 53,
   "metadata": {},
   "outputs": [
    {
     "data": {
      "text/html": [
       "<div>\n",
       "<style scoped>\n",
       "    .dataframe tbody tr th:only-of-type {\n",
       "        vertical-align: middle;\n",
       "    }\n",
       "\n",
       "    .dataframe tbody tr th {\n",
       "        vertical-align: top;\n",
       "    }\n",
       "\n",
       "    .dataframe thead th {\n",
       "        text-align: right;\n",
       "    }\n",
       "</style>\n",
       "<table border=\"1\" class=\"dataframe\">\n",
       "  <thead>\n",
       "    <tr style=\"text-align: right;\">\n",
       "      <th></th>\n",
       "      <th>album</th>\n",
       "      <th>title</th>\n",
       "      <th>lyric</th>\n",
       "      <th>artist</th>\n",
       "    </tr>\n",
       "  </thead>\n",
       "  <tbody>\n",
       "    <tr>\n",
       "      <th>0</th>\n",
       "      <td>Somewhere in Time</td>\n",
       "      <td>The Loneliness of the Long Distance Runner</td>\n",
       "      <td>Can't understand what is happening to me,\\nThi...</td>\n",
       "      <td>m</td>\n",
       "    </tr>\n",
       "    <tr>\n",
       "      <th>1</th>\n",
       "      <td>Somewhere in Time</td>\n",
       "      <td>Sea of Madness</td>\n",
       "      <td>Out in the street somebody's crying,\\nOut in t...</td>\n",
       "      <td>m</td>\n",
       "    </tr>\n",
       "    <tr>\n",
       "      <th>2</th>\n",
       "      <td>Somewhere in Time</td>\n",
       "      <td>Stranger in a Strange Land</td>\n",
       "      <td>Was many years ago that I left home and came t...</td>\n",
       "      <td>m</td>\n",
       "    </tr>\n",
       "    <tr>\n",
       "      <th>3</th>\n",
       "      <td>Somewhere in Time</td>\n",
       "      <td>Alexander The Great</td>\n",
       "      <td>\"My son, ask for thyself another kingdom,\\nFor...</td>\n",
       "      <td>m</td>\n",
       "    </tr>\n",
       "    <tr>\n",
       "      <th>4</th>\n",
       "      <td>Somewhere in Time</td>\n",
       "      <td>Deja Vu</td>\n",
       "      <td>When you see familiar faces,\\nBut you don't re...</td>\n",
       "      <td>m</td>\n",
       "    </tr>\n",
       "    <tr>\n",
       "      <th>...</th>\n",
       "      <td>...</td>\n",
       "      <td>...</td>\n",
       "      <td>...</td>\n",
       "      <td>...</td>\n",
       "    </tr>\n",
       "    <tr>\n",
       "      <th>299</th>\n",
       "      <td>reputation</td>\n",
       "      <td>King of My Heart</td>\n",
       "      <td>I'm perfectly fine, I live on my own\\nI made u...</td>\n",
       "      <td>t</td>\n",
       "    </tr>\n",
       "    <tr>\n",
       "      <th>300</th>\n",
       "      <td>reputation</td>\n",
       "      <td>Look What You Made Me Do</td>\n",
       "      <td>I don't like your little games\\nDon't like you...</td>\n",
       "      <td>t</td>\n",
       "    </tr>\n",
       "    <tr>\n",
       "      <th>301</th>\n",
       "      <td>reputation</td>\n",
       "      <td>New Year’s Day</td>\n",
       "      <td>There's glitter on the floor after the party\\n...</td>\n",
       "      <td>t</td>\n",
       "    </tr>\n",
       "    <tr>\n",
       "      <th>302</th>\n",
       "      <td>reputation</td>\n",
       "      <td>So It Goes...</td>\n",
       "      <td>See you in the dark\\nAll eyes on you, my magic...</td>\n",
       "      <td>t</td>\n",
       "    </tr>\n",
       "    <tr>\n",
       "      <th>303</th>\n",
       "      <td>reputation</td>\n",
       "      <td>This Is Why We Can’t Have Nice Things</td>\n",
       "      <td>It was so nice throwing big parties\\nJump into...</td>\n",
       "      <td>t</td>\n",
       "    </tr>\n",
       "  </tbody>\n",
       "</table>\n",
       "<p>304 rows × 4 columns</p>\n",
       "</div>"
      ],
      "text/plain": [
       "                 album                                       title  \\\n",
       "0    Somewhere in Time  The Loneliness of the Long Distance Runner   \n",
       "1    Somewhere in Time                              Sea of Madness   \n",
       "2    Somewhere in Time                  Stranger in a Strange Land   \n",
       "3    Somewhere in Time                         Alexander The Great   \n",
       "4    Somewhere in Time                                     Deja Vu   \n",
       "..                 ...                                         ...   \n",
       "299         reputation                            King of My Heart   \n",
       "300         reputation                    Look What You Made Me Do   \n",
       "301         reputation                              New Year’s Day   \n",
       "302         reputation                               So It Goes...   \n",
       "303         reputation       This Is Why We Can’t Have Nice Things   \n",
       "\n",
       "                                                 lyric artist  \n",
       "0    Can't understand what is happening to me,\\nThi...      m  \n",
       "1    Out in the street somebody's crying,\\nOut in t...      m  \n",
       "2    Was many years ago that I left home and came t...      m  \n",
       "3    \"My son, ask for thyself another kingdom,\\nFor...      m  \n",
       "4    When you see familiar faces,\\nBut you don't re...      m  \n",
       "..                                                 ...    ...  \n",
       "299  I'm perfectly fine, I live on my own\\nI made u...      t  \n",
       "300  I don't like your little games\\nDon't like you...      t  \n",
       "301  There's glitter on the floor after the party\\n...      t  \n",
       "302  See you in the dark\\nAll eyes on you, my magic...      t  \n",
       "303  It was so nice throwing big parties\\nJump into...      t  \n",
       "\n",
       "[304 rows x 4 columns]"
      ]
     },
     "execution_count": 53,
     "metadata": {},
     "output_type": "execute_result"
    }
   ],
   "source": [
    "df_geral"
   ]
  },
  {
   "cell_type": "markdown",
   "metadata": {},
   "source": [
    "## Pré-processamento"
   ]
  },
  {
   "cell_type": "code",
   "execution_count": 54,
   "metadata": {},
   "outputs": [
    {
     "name": "stderr",
     "output_type": "stream",
     "text": [
      "[nltk_data] Downloading package punkt to /home/mateus/nltk_data...\n",
      "[nltk_data]   Package punkt is already up-to-date!\n",
      "[nltk_data] Downloading package stopwords to /home/mateus/nltk_data...\n",
      "[nltk_data]   Package stopwords is already up-to-date!\n"
     ]
    },
    {
     "data": {
      "text/plain": [
       "True"
      ]
     },
     "execution_count": 54,
     "metadata": {},
     "output_type": "execute_result"
    }
   ],
   "source": [
    "import nltk\n",
    "import contractions\n",
    "from nltk.corpus import stopwords\n",
    "from nltk.tokenize import word_tokenize\n",
    "from gibberish_detector import detector\n",
    "\n",
    "nltk.download('punkt')\n",
    "nltk.download('stopwords')"
   ]
  },
  {
   "cell_type": "code",
   "execution_count": 55,
   "metadata": {},
   "outputs": [],
   "source": [
    "df_geral['lyric'] = df_geral['lyric'].str.lower()"
   ]
  },
  {
   "cell_type": "code",
   "execution_count": 56,
   "metadata": {},
   "outputs": [],
   "source": [
    "df_geral['or_lyric'] = df_geral['lyric']"
   ]
  },
  {
   "cell_type": "code",
   "execution_count": 57,
   "metadata": {},
   "outputs": [],
   "source": [
    "df_geral['lyric'] = df_geral['lyric'].str.replace('\\n', ' ')"
   ]
  },
  {
   "cell_type": "code",
   "execution_count": 58,
   "metadata": {},
   "outputs": [],
   "source": [
    "# Removendo contrações\n",
    "df_geral['lyric'] = df_geral['lyric'].apply(lambda x: contractions.fix(x, slang=True))"
   ]
  },
  {
   "cell_type": "code",
   "execution_count": 59,
   "metadata": {},
   "outputs": [],
   "source": [
    "# Removendo chaves\n",
    "df_geral['lyric'] = df_geral['lyric'].apply(lambda x: re.sub(r'\\[\\w+\\]', '', x))\n",
    "\n",
    "# Removendo parenteses\n",
    "df_geral['lyric'] = df_geral['lyric'].apply(lambda x: re.sub(r'\\([^)]*\\)', '', x))\n",
    "\n",
    "# Removendo pontuação\n",
    "df_geral['lyric'] = df_geral['lyric'].apply(lambda x: re.sub(r'[^\\w\\s]', '', x))"
   ]
  },
  {
   "cell_type": "code",
   "execution_count": 60,
   "metadata": {},
   "outputs": [],
   "source": [
    "df_geral['lyric'] = df_geral['lyric'].apply(lambda x: ' '.join(x.split()))"
   ]
  },
  {
   "cell_type": "code",
   "execution_count": 61,
   "metadata": {},
   "outputs": [],
   "source": [
    "stop_words = set(stopwords.words('english'))\n",
    "new_stop_words = ['oh', 'ooh', 'ooh-ooh', 'hey', 'oh-', 'oh-oh', 'ooh', 'ooh-ooh' 'yeah', 'mmm', 'ah', 'whoa', 'eh', 'chorus', '``']\n",
    "stop_words.update(new_stop_words)"
   ]
  },
  {
   "cell_type": "code",
   "execution_count": 62,
   "metadata": {},
   "outputs": [],
   "source": [
    "def remove_stop_words(df):\n",
    "    df['processed'] = df['lyric'].apply(nltk.word_tokenize)\n",
    "    df['processed'] = df['processed'].apply(lambda x: [row for row in x if row not in stop_words])\n",
    "    return df"
   ]
  },
  {
   "cell_type": "code",
   "execution_count": 63,
   "metadata": {},
   "outputs": [],
   "source": [
    "df_geral = remove_stop_words(df_geral)"
   ]
  },
  {
   "cell_type": "code",
   "execution_count": 64,
   "metadata": {},
   "outputs": [
    {
     "data": {
      "text/plain": [
       "0      cannot understand what is happening to me this...\n",
       "1      out in the street somebody is crying out in th...\n",
       "2      was many years ago that i left home and came t...\n",
       "3      my son ask for thyself another kingdom for tha...\n",
       "4      when you see familiar faces but you do not rem...\n",
       "                             ...                        \n",
       "299    i am perfectly fine i live on my own i made up...\n",
       "300    i do not like your little games do not like yo...\n",
       "301    there is glitter on the floor after the party ...\n",
       "302    see you in the dark all eyes on you my magicia...\n",
       "303    it was so nice throwing big parties jump into ...\n",
       "Name: lyric, Length: 304, dtype: object"
      ]
     },
     "execution_count": 64,
     "metadata": {},
     "output_type": "execute_result"
    }
   ],
   "source": [
    "df_geral['lyric']"
   ]
  },
  {
   "cell_type": "markdown",
   "metadata": {},
   "source": [
    "# Lemmatization"
   ]
  },
  {
   "cell_type": "code",
   "execution_count": 19,
   "metadata": {},
   "outputs": [
    {
     "name": "stderr",
     "output_type": "stream",
     "text": [
      "[nltk_data] Downloading package averaged_perceptron_tagger to\n",
      "[nltk_data]     /home/mateus/nltk_data...\n",
      "[nltk_data]   Package averaged_perceptron_tagger is already up-to-\n",
      "[nltk_data]       date!\n",
      "[nltk_data] Downloading package wordnet to /home/mateus/nltk_data...\n",
      "[nltk_data]   Package wordnet is already up-to-date!\n",
      "[nltk_data] Downloading package omw-1.4 to /home/mateus/nltk_data...\n",
      "[nltk_data]   Package omw-1.4 is already up-to-date!\n"
     ]
    },
    {
     "data": {
      "text/plain": [
       "True"
      ]
     },
     "execution_count": 19,
     "metadata": {},
     "output_type": "execute_result"
    }
   ],
   "source": [
    "from nltk.stem import WordNetLemmatizer\n",
    "from nltk.corpus import wordnet\n",
    "nltk.download('averaged_perceptron_tagger')\n",
    "nltk.download(\"wordnet\")\n",
    "nltk.download(\"omw-1.4\")"
   ]
  },
  {
   "cell_type": "code",
   "execution_count": 20,
   "metadata": {},
   "outputs": [],
   "source": [
    "wnl = WordNetLemmatizer()"
   ]
  },
  {
   "cell_type": "code",
   "execution_count": 21,
   "metadata": {},
   "outputs": [],
   "source": [
    "def get_wordnet_pos(word):\n",
    "    \"\"\"Map POS tag to first character lemmatize() accepts\"\"\"\n",
    "    tag = nltk.pos_tag([word])[0][1][0].upper()\n",
    "    tag_dict = {\"J\": wordnet.ADJ,\n",
    "                \"N\": wordnet.NOUN,\n",
    "                \"V\": wordnet.VERB,\n",
    "                \"R\": wordnet.ADV}\n",
    "\n",
    "    return tag_dict.get(tag, wordnet.NOUN)"
   ]
  },
  {
   "cell_type": "code",
   "execution_count": 22,
   "metadata": {},
   "outputs": [],
   "source": [
    "def lemmatize(tokenized):\n",
    "    return [wnl.lemmatize(w, get_wordnet_pos(w)) for w in tokenized]"
   ]
  },
  {
   "cell_type": "code",
   "execution_count": null,
   "metadata": {},
   "outputs": [],
   "source": [
    "df_geral['lemma'] = df_geral['processed'].apply(lemmatize)"
   ]
  },
  {
   "cell_type": "code",
   "execution_count": 24,
   "metadata": {},
   "outputs": [
    {
     "name": "stdout",
     "output_type": "stream",
     "text": [
      "Processed: street somebody crying night fires burn\n",
      "Lemmatization: street somebody cry night fire burn\n"
     ]
    }
   ],
   "source": [
    "print(f\"Processed: {' '.join(df_geral['processed'][1][0:6])}\")\n",
    "print(f\"Lemmatization: {' '.join(df_geral['lemma'][1][0:6])}\")"
   ]
  },
  {
   "cell_type": "markdown",
   "metadata": {},
   "source": [
    "# Treinando SVC"
   ]
  },
  {
   "cell_type": "code",
   "execution_count": 65,
   "metadata": {},
   "outputs": [],
   "source": [
    "from sklearn.model_selection import train_test_split\n",
    "from sklearn.feature_extraction.text import TfidfVectorizer\n",
    "from sklearn.svm import SVC\n",
    "from sklearn.metrics import classification_report"
   ]
  },
  {
   "cell_type": "code",
   "execution_count": null,
   "metadata": {},
   "outputs": [],
   "source": [
    "df_geral['text'] = df_geral['lemma'].apply(lambda x:' '.join(x))"
   ]
  },
  {
   "cell_type": "code",
   "execution_count": null,
   "metadata": {},
   "outputs": [],
   "source": [
    "y = df_geral['artist']\n",
    "X = df_geral['text']\n",
    "\n",
    "X_train, X_test, y_train, y_test = train_test_split(X, y, test_size=0.3, random_state=42)"
   ]
  },
  {
   "cell_type": "code",
   "execution_count": null,
   "metadata": {},
   "outputs": [],
   "source": [
    "# Vetorização do texto (usando TF-IDF neste exemplo)\n",
    "vectorizer = TfidfVectorizer(max_features=1000)\n",
    "X_treino_transformado = vectorizer.fit_transform(X_train)\n",
    "X_teste_transformado = vectorizer.transform(X_test)\n",
    "\n",
    "palavras = vectorizer.get_feature_names()\n",
    "\n",
    "X_treino_df = pd.DataFrame(X_treino_transformado.toarray(), columns=palavras)\n",
    "\n",
    "relevancia_palavras = X_treino_df.sum(axis=0).sort_values(ascending=False)\n",
    "\n",
    "top_palavras = relevancia_palavras.head(10)\n",
    "print(\"Palavras com maior relevância no corpus:\")\n",
    "print(top_palavras)"
   ]
  },
  {
   "cell_type": "code",
   "execution_count": null,
   "metadata": {},
   "outputs": [
    {
     "name": "stdout",
     "output_type": "stream",
     "text": [
      "Relatório de Classificação:\n",
      "               precision    recall  f1-score   support\n",
      "\n",
      "           m       0.93      0.89      0.91        44\n",
      "           t       0.90      0.94      0.92        48\n",
      "\n",
      "    accuracy                           0.91        92\n",
      "   macro avg       0.91      0.91      0.91        92\n",
      "weighted avg       0.91      0.91      0.91        92\n",
      "\n"
     ]
    }
   ],
   "source": [
    "modelo_svm = SVC(kernel='linear', C=1.0)\n",
    "modelo_svm.fit(X_treino_transformado, y_train)\n",
    "\n",
    "previsoes = modelo_svm.predict(X_teste_transformado)\n",
    "relatorio_classificacao = classification_report(y_test, previsoes)\n",
    "print('Relatório de Classificação:\\n', relatorio_classificacao)"
   ]
  },
  {
   "cell_type": "code",
   "execution_count": null,
   "metadata": {},
   "outputs": [
    {
     "data": {
      "image/png": "[encoded data removed]",
      "text/plain": [
       "<Figure size 576x432 with 2 Axes>"
      ]
     },
     "metadata": {
      "needs_background": "light"
     },
     "output_type": "display_data"
    }
   ],
   "source": [
    "from sklearn.metrics import confusion_matrix\n",
    "import seaborn as sns\n",
    "import matplotlib.pyplot as plt\n",
    "\n",
    "matriz_confusao = confusion_matrix(y_test, previsoes)\n",
    "\n",
    "# Exibir como heatmap\n",
    "plt.figure(figsize=(8, 6))\n",
    "sns.heatmap(matriz_confusao, annot=True, fmt='d', cmap='Blues', xticklabels=modelo_svm.classes_, yticklabels=modelo_svm.classes_)\n",
    "plt.xlabel('Previsão')\n",
    "plt.ylabel('Verdadeiro')\n",
    "plt.title('Matriz de Confusão')\n",
    "plt.show()"
   ]
  },
  {
   "cell_type": "code",
   "execution_count": null,
   "metadata": {},
   "outputs": [
    {
     "name": "stdout",
     "output_type": "stream",
     "text": [
      "Erros de Classificação com Dados Originais:\n",
      "     indice                                              dados classe predita\n",
      "180       0  last drop rain dry pavement find stain never w...      t       m\n",
      "45       12  place dream living seem ship white light sky n...      m       t\n",
      "176      13  today fairytale prince use damsel distress tak...      t       m\n",
      "280      35  keep helmet keep life son flesh wound rifle cr...      t       m\n",
      "92       40  darken sky time prepare salvage last horizon r...      m       t\n",
      "6        68  time lose open mind time choose would care tak...      m       t\n",
      "114      75  cold october morning frost lay ground wait mak...      m       t\n",
      "84       82  let tell story chill bone thing saw one night ...      m       t\n"
     ]
    },
    {
     "name": "stderr",
     "output_type": "stream",
     "text": [
      "/tmp/ipykernel_5063/3348206060.py:20: SettingWithCopyWarning: \n",
      "A value is trying to be set on a copy of a slice from a DataFrame.\n",
      "Try using .loc[row_indexer,col_indexer] = value instead\n",
      "\n",
      "See the caveats in the documentation: https://pandas.pydata.org/pandas-docs/stable/user_guide/indexing.html#returning-a-view-versus-a-copy\n",
      "  erros_df['dados'] = X_test_df.iloc[erros_df['indice']].values\n"
     ]
    }
   ],
   "source": [
    "resultados_df = pd.DataFrame({\n",
    "    'indice': range(len(y_test)),  \n",
    "    'classe': y_test,  \n",
    "    'predita': previsoes \n",
    "})\n",
    "\n",
    "resultados_df['erro'] = resultados_df['classe'] != resultados_df['predita']\n",
    "\n",
    "erros_df = resultados_df[resultados_df['erro']]\n",
    "\n",
    "X_test_df = pd.DataFrame(X_test) if not isinstance(X_test, pd.DataFrame) else X_test\n",
    "\n",
    "# Adicionar as linhas de X_test aos erros\n",
    "erros_df['dados'] = X_test_df.iloc[erros_df['indice']].values\n",
    "\n",
    "print(\"Erros de Classificação com Dados Originais:\")\n",
    "print(erros_df[['indice', 'dados', 'classe', 'predita']])\n"
   ]
  },
  {
   "cell_type": "markdown",
   "metadata": {},
   "source": [
    "# Análise"
   ]
  },
  {
   "cell_type": "code",
   "execution_count": 34,
   "metadata": {},
   "outputs": [
    {
     "name": "stdout",
     "output_type": "stream",
     "text": [
      "0      [understand, happen, real, dream, never, felt,...\n",
      "1      [street, somebody, cry, night, fire, burn, may...\n",
      "2      [many, year, ago, left, home, come, way, young...\n",
      "3      [son, ask, thyself, another, kingdom, leave, s...\n",
      "4      [see, familiar, face, remember, could, wrong, ...\n",
      "                             ...                        \n",
      "299    [perfectly, fine, live, make, mind, well, bein...\n",
      "300    [like, little, game, like, tilt, stage, role, ...\n",
      "301    [glitter, floor, party, girl, carry, shoe, lob...\n",
      "302    [see, dark, eye, magician, eye, u, make, every...\n",
      "303    [nice, throw, big, party, jump, pool, balcony,...\n",
      "Name: lemma, Length: 304, dtype: object\n"
     ]
    }
   ],
   "source": [
    "print(df_geral['lemma'])"
   ]
  },
  {
   "cell_type": "code",
   "execution_count": 35,
   "metadata": {},
   "outputs": [],
   "source": [
    "import spacy\n",
    "import matplotlib.pyplot as plt\n",
    "nlp = spacy.load('en_core_web_sm')"
   ]
  },
  {
   "cell_type": "code",
   "execution_count": 36,
   "metadata": {},
   "outputs": [],
   "source": [
    "def get_words(texto, word):\n",
    "    doc = nlp(texto)\n",
    "    lista = []\n",
    "    for token in doc:\n",
    "        if token.pos_ == word:\n",
    "            \n",
    "            if word == 'VERB' and not(token.text == '\\'' or token.text == 'm'):\n",
    "                lista.append(token.text)\n",
    "            \n",
    "            elif word == 'NOUN' and not(token.text == '\\'' or token.text == 'm'):\n",
    "                lista.append(token.text)\n",
    "            \n",
    "            elif word == 'ADJ' and not(token.text == '\\'' or token.text == 'm'):\n",
    "                lista.append(token.text)\n",
    "            \n",
    "            elif word == 'ADV' and not(token.text == '\\'' or token.text == 'm'):\n",
    "                lista.append(token.text)\n",
    "\n",
    "            lista.append(token.text)\n",
    "    return lista"
   ]
  },
  {
   "cell_type": "code",
   "execution_count": 37,
   "metadata": {},
   "outputs": [],
   "source": [
    "df_maiden = df_geral.loc[df_geral['artist'] == 'm']\n",
    "df_ts = df_geral.loc[df_geral['artist'] == 't']"
   ]
  },
  {
   "cell_type": "code",
   "execution_count": 38,
   "metadata": {},
   "outputs": [],
   "source": [
    "adj = df_maiden['text'].apply(get_words, word='ADJ')\n",
    "sub = df_maiden['text'].apply(get_words, word='NOUN')\n",
    "ver = df_maiden['text'].apply(get_words, word='VERB')\n",
    "adv = df_maiden['text'].apply(get_words, word='ADV')\n",
    "\n",
    "count_adj_m = pd.Series([word for sublist in adj for word in sublist]).value_counts()\n",
    "count_sub_m = pd.Series([word for sublist in sub for word in sublist]).value_counts()\n",
    "count_ver_m = pd.Series([word for sublist in ver for word in sublist]).value_counts()\n",
    "count_adv_m = pd.Series([word for sublist in adv for word in sublist]).value_counts()"
   ]
  },
  {
   "cell_type": "code",
   "execution_count": 39,
   "metadata": {},
   "outputs": [],
   "source": [
    "adj = df_ts['text'].apply(get_words, word='ADJ')\n",
    "sub = df_ts['text'].apply(get_words, word='NOUN')\n",
    "ver = df_ts['text'].apply(get_words, word='VERB')\n",
    "adv = df_ts['text'].apply(get_words, word='ADV')\n",
    "\n",
    "count_adj_t = pd.Series([word for sublist in adj for word in sublist]).value_counts()\n",
    "count_sub_t = pd.Series([word for sublist in sub for word in sublist]).value_counts()\n",
    "count_ver_t = pd.Series([word for sublist in ver for word in sublist]).value_counts()\n",
    "count_adv_t = pd.Series([word for sublist in adv for word in sublist]).value_counts()"
   ]
  },
  {
   "cell_type": "code",
   "execution_count": 40,
   "metadata": {},
   "outputs": [],
   "source": [
    "def subplots(sub, adj, ver, adv):\n",
    "    fig, axs = plt.subplots(2, 2, figsize=(10, 8))\n",
    "\n",
    "    # Plotando os dados em cada subplot\n",
    "    axs[0, 0].bar(sub[:10].keys(), sub[:10].values)\n",
    "    axs[0, 0].set_title('Substantivos')\n",
    "    axs[0, 0].set_xticklabels(sub[:10].keys(), rotation=45)\n",
    "\n",
    "    axs[0, 1].bar(adj[:10].keys(), adj[:10].values, width=0.7)\n",
    "    axs[0, 1].set_title('Adjetivos')\n",
    "    axs[0, 1].set_xticklabels(adj[:10].keys(), rotation=45)\n",
    "\n",
    "    axs[1, 0].bar(ver[:10].keys(), ver[:10].values)\n",
    "    axs[1, 0].set_title('Verbos')\n",
    "    axs[1, 0].set_xticklabels(ver[:10].keys(), rotation=45)\n",
    "\n",
    "    axs[1, 1].bar(adv[:10].keys(), adv[:10].values)\n",
    "    axs[1, 1].set_title('Adverbios')\n",
    "    axs[1, 1].set_xticklabels(adv[:10].keys(), rotation=45)\n",
    "\n",
    "    # Ajustando o layout\n",
    "    plt.tight_layout()\n",
    "\n",
    "    # Mostrando os subplots\n",
    "    plt.show()"
   ]
  },
  {
   "cell_type": "code",
   "execution_count": 41,
   "metadata": {},
   "outputs": [
    {
     "name": "stderr",
     "output_type": "stream",
     "text": [
      "/tmp/ipykernel_90376/1535494244.py:7: UserWarning: FixedFormatter should only be used together with FixedLocator\n",
      "  axs[0, 0].set_xticklabels(sub[:10].keys(), rotation=45)\n",
      "/tmp/ipykernel_90376/1535494244.py:11: UserWarning: FixedFormatter should only be used together with FixedLocator\n",
      "  axs[0, 1].set_xticklabels(adj[:10].keys(), rotation=45)\n",
      "/tmp/ipykernel_90376/1535494244.py:15: UserWarning: FixedFormatter should only be used together with FixedLocator\n",
      "  axs[1, 0].set_xticklabels(ver[:10].keys(), rotation=45)\n",
      "/tmp/ipykernel_90376/1535494244.py:19: UserWarning: FixedFormatter should only be used together with FixedLocator\n",
      "  axs[1, 1].set_xticklabels(adv[:10].keys(), rotation=45)\n"
     ]
    },
    {
     "data": {
      "image/png": "[encoded data removed]",
      "text/plain": [
       "<Figure size 720x576 with 4 Axes>"
      ]
     },
     "metadata": {
      "needs_background": "light"
     },
     "output_type": "display_data"
    }
   ],
   "source": [
    "subplots(count_sub_t, count_adj_t,count_ver_t, count_adv_t)"
   ]
  },
  {
   "cell_type": "code",
   "execution_count": 42,
   "metadata": {},
   "outputs": [
    {
     "name": "stderr",
     "output_type": "stream",
     "text": [
      "/tmp/ipykernel_90376/1535494244.py:7: UserWarning: FixedFormatter should only be used together with FixedLocator\n",
      "  axs[0, 0].set_xticklabels(sub[:10].keys(), rotation=45)\n",
      "/tmp/ipykernel_90376/1535494244.py:11: UserWarning: FixedFormatter should only be used together with FixedLocator\n",
      "  axs[0, 1].set_xticklabels(adj[:10].keys(), rotation=45)\n",
      "/tmp/ipykernel_90376/1535494244.py:15: UserWarning: FixedFormatter should only be used together with FixedLocator\n",
      "  axs[1, 0].set_xticklabels(ver[:10].keys(), rotation=45)\n",
      "/tmp/ipykernel_90376/1535494244.py:19: UserWarning: FixedFormatter should only be used together with FixedLocator\n",
      "  axs[1, 1].set_xticklabels(adv[:10].keys(), rotation=45)\n"
     ]
    },
    {
     "data": {
      "image/png": "[encoded data removed]",
      "text/plain": [
       "<Figure size 720x576 with 4 Axes>"
      ]
     },
     "metadata": {
      "needs_background": "light"
     },
     "output_type": "display_data"
    }
   ],
   "source": [
    "subplots(count_sub_m, count_adj_m,count_ver_m, count_adv_m)"
   ]
  },
  {
   "cell_type": "code",
   "execution_count": 43,
   "metadata": {},
   "outputs": [],
   "source": [
    "aux_ts = df_geral.drop(columns=['processed'])"
   ]
  },
  {
   "cell_type": "code",
   "execution_count": 44,
   "metadata": {},
   "outputs": [],
   "source": [
    "aux_ts.to_json('ts.json', orient='records', indent=4)"
   ]
  },
  {
   "cell_type": "markdown",
   "metadata": {},
   "source": [
    "### Análise sentimento"
   ]
  },
  {
   "cell_type": "code",
   "execution_count": 45,
   "metadata": {},
   "outputs": [],
   "source": [
    "from transformers import pipeline\n",
    "import json\n",
    "import seaborn as sns\n",
    "import matplotlib.pyplot as plt"
   ]
  },
  {
   "cell_type": "code",
   "execution_count": 46,
   "metadata": {},
   "outputs": [],
   "source": [
    "classifier = pipeline(\"text-classification\", model=\"j-hartmann/emotion-english-distilroberta-base\")"
   ]
  },
  {
   "cell_type": "code",
   "execution_count": 47,
   "metadata": {},
   "outputs": [],
   "source": [
    "def analyze_emotion(lyric):\n",
    "    phrases = lyric.split('\\n')\n",
    "    \n",
    "    value_emotion = {\n",
    "        'anger': 0, 'disgust': 0, 'fear': 0, 'joy': 0, 'neutral': 0, 'sadness': 0, 'surprise': 0\n",
    "    }\n",
    "    \n",
    "    count_emotion = {\n",
    "        'anger': 0, 'disgust': 0, 'fear': 0, 'joy': 0, 'neutral': 0, 'sadness': 0, 'surprise': 0\n",
    "    }\n",
    "    \n",
    "    mean_emotion = {\n",
    "        'anger': 0, 'disgust': 0, 'fear': 0, 'joy': 0, 'neutral': 0, 'sadness': 0, 'surprise': 0\n",
    "    }\n",
    "    \n",
    "    for phrase in phrases:\n",
    "        emotion = classifier(phrase)\n",
    "        emotion = emotion[0]\n",
    "        emotion_score = emotion['score']\n",
    "        emotion_label = emotion['label']\n",
    "        count_emotion[emotion_label] += 1\n",
    "        value_emotion[emotion_label] += emotion_score\n",
    "    \n",
    "    for key, value in value_emotion.items():\n",
    "        if value != 0:\n",
    "            mean_emotion[key] = value / count_emotion[key]\n",
    "    \n",
    "    \n",
    "    return mean_emotion"
   ]
  },
  {
   "cell_type": "code",
   "execution_count": null,
   "metadata": {},
   "outputs": [],
   "source": [
    "df_geral['score_emotion'] = df_geral['or_lyric'].apply(lambda x: analyze_emotion(x))"
   ]
  },
  {
   "cell_type": "code",
   "execution_count": null,
   "metadata": {},
   "outputs": [],
   "source": [
    "#df_geral.to_csv('df_geral.csv', index=False)"
   ]
  },
  {
   "cell_type": "code",
   "execution_count": 49,
   "metadata": {},
   "outputs": [],
   "source": [
    "from ast import literal_eval"
   ]
  },
  {
   "cell_type": "code",
   "execution_count": 50,
   "metadata": {},
   "outputs": [],
   "source": [
    "df_geral = pd.read_csv('df_geral.csv')\n",
    "df_geral['score_emotion'] = df_geral['score_emotion'].apply(literal_eval)"
   ]
  },
  {
   "cell_type": "code",
   "execution_count": 51,
   "metadata": {},
   "outputs": [],
   "source": [
    "albums_maiden = df_geral.loc[df_geral['artist'] == 'm', 'album'].unique().tolist()\n",
    "albums_tf = df_geral.loc[df_geral['artist'] == 't', 'album'].unique().tolist()"
   ]
  },
  {
   "cell_type": "code",
   "execution_count": 52,
   "metadata": {},
   "outputs": [],
   "source": [
    "emotion_album_m = {'album': '', 'anger': 0, 'disgust': 0, 'fear': 0, 'joy': 0, 'neutral': 0, 'sadness': 0, 'surprise': 0}\n",
    "emotion_album_t = {'album': '', 'anger': 0, 'disgust': 0, 'fear': 0, 'joy': 0, 'neutral': 0, 'sadness': 0, 'surprise': 0}"
   ]
  },
  {
   "cell_type": "code",
   "execution_count": 53,
   "metadata": {},
   "outputs": [],
   "source": [
    "def create_columns(df):\n",
    "    emotions = ['anger', 'disgust', 'fear', 'joy', 'neutral', 'sadness', 'surprise']\n",
    "    for emotion in emotions:\n",
    "        df[emotion] = 0\n",
    "        \n",
    "    return df"
   ]
  },
  {
   "cell_type": "code",
   "execution_count": 54,
   "metadata": {},
   "outputs": [],
   "source": [
    "df_geral = create_columns(df_geral)"
   ]
  },
  {
   "cell_type": "code",
   "execution_count": 55,
   "metadata": {},
   "outputs": [],
   "source": [
    "def expand_dict(df):\n",
    "    emotions = ['anger', 'disgust', 'fear', 'joy', 'neutral', 'sadness', 'surprise']\n",
    "    for indice, linha in df.iterrows():\n",
    "        for emotion in emotions:\n",
    "            df.at[indice, emotion] = linha['score_emotion'][emotion]\n",
    "    \n",
    "    \n",
    "    return df"
   ]
  },
  {
   "cell_type": "code",
   "execution_count": 56,
   "metadata": {},
   "outputs": [],
   "source": [
    "aux = expand_dict(df_geral)"
   ]
  },
  {
   "cell_type": "code",
   "execution_count": 57,
   "metadata": {},
   "outputs": [],
   "source": [
    "def mean_album(df, albums):\n",
    "    # DataFrame auxiliar para armazenar os resultados\n",
    "    df_aux = pd.DataFrame(columns=['album', 'anger', 'disgust', 'fear', 'joy', 'neutral', 'sadness', 'surprise'])\n",
    "\n",
    "    emotions = ['anger', 'disgust', 'fear', 'joy', 'neutral', 'sadness', 'surprise']\n",
    "\n",
    "    for album in albums:\n",
    "        # Calcula a média de cada emoção para o álbum\n",
    "        mean_values = {emotion: df.loc[df['album'] == album, emotion].mean() for emotion in emotions}\n",
    "\n",
    "        # Calcula a soma das médias das emoções para normalização\n",
    "        total = sum(mean_values.values())\n",
    "\n",
    "        # Normaliza as emoções para que a soma seja 1\n",
    "        normalized_values = {emotion: mean_values[emotion] / total for emotion in emotions} if total > 0 else {emotion: 0 for emotion in emotions}\n",
    "\n",
    "        # Adiciona os valores normalizados ao DataFrame auxiliar\n",
    "        df_aux = df_aux.append(\n",
    "            {'album': album, **normalized_values},\n",
    "            ignore_index=True\n",
    "        )\n",
    "\n",
    "    return df_aux\n"
   ]
  },
  {
   "cell_type": "code",
   "execution_count": null,
   "metadata": {},
   "outputs": [],
   "source": [
    "aux_ts = mean_album(df_geral, albums_tf)"
   ]
  },
  {
   "cell_type": "code",
   "execution_count": null,
   "metadata": {},
   "outputs": [],
   "source": [
    "aux = mean_album(df_geral, albums_maiden)"
   ]
  },
  {
   "cell_type": "code",
   "execution_count": 60,
   "metadata": {},
   "outputs": [
    {
     "data": {
      "text/html": [
       "<div>\n",
       "<style scoped>\n",
       "    .dataframe tbody tr th:only-of-type {\n",
       "        vertical-align: middle;\n",
       "    }\n",
       "\n",
       "    .dataframe tbody tr th {\n",
       "        vertical-align: top;\n",
       "    }\n",
       "\n",
       "    .dataframe thead th {\n",
       "        text-align: right;\n",
       "    }\n",
       "</style>\n",
       "<table border=\"1\" class=\"dataframe\">\n",
       "  <thead>\n",
       "    <tr style=\"text-align: right;\">\n",
       "      <th></th>\n",
       "      <th>album</th>\n",
       "      <th>anger</th>\n",
       "      <th>disgust</th>\n",
       "      <th>fear</th>\n",
       "      <th>joy</th>\n",
       "      <th>neutral</th>\n",
       "      <th>sadness</th>\n",
       "      <th>surprise</th>\n",
       "    </tr>\n",
       "  </thead>\n",
       "  <tbody>\n",
       "    <tr>\n",
       "      <th>0</th>\n",
       "      <td>Somewhere in Time</td>\n",
       "      <td>0.143259</td>\n",
       "      <td>0.061973</td>\n",
       "      <td>0.155086</td>\n",
       "      <td>0.164597</td>\n",
       "      <td>0.155429</td>\n",
       "      <td>0.166833</td>\n",
       "      <td>0.152823</td>\n",
       "    </tr>\n",
       "    <tr>\n",
       "      <th>1</th>\n",
       "      <td>Brave New World</td>\n",
       "      <td>0.156258</td>\n",
       "      <td>0.078102</td>\n",
       "      <td>0.154397</td>\n",
       "      <td>0.150638</td>\n",
       "      <td>0.168099</td>\n",
       "      <td>0.171376</td>\n",
       "      <td>0.121130</td>\n",
       "    </tr>\n",
       "    <tr>\n",
       "      <th>2</th>\n",
       "      <td>The Book of Souls</td>\n",
       "      <td>0.156154</td>\n",
       "      <td>0.069850</td>\n",
       "      <td>0.171218</td>\n",
       "      <td>0.140202</td>\n",
       "      <td>0.156176</td>\n",
       "      <td>0.183328</td>\n",
       "      <td>0.123072</td>\n",
       "    </tr>\n",
       "    <tr>\n",
       "      <th>3</th>\n",
       "      <td>Killers</td>\n",
       "      <td>0.169359</td>\n",
       "      <td>0.043273</td>\n",
       "      <td>0.132520</td>\n",
       "      <td>0.169735</td>\n",
       "      <td>0.157858</td>\n",
       "      <td>0.191826</td>\n",
       "      <td>0.135430</td>\n",
       "    </tr>\n",
       "    <tr>\n",
       "      <th>4</th>\n",
       "      <td>Iron maiden</td>\n",
       "      <td>0.160571</td>\n",
       "      <td>0.071049</td>\n",
       "      <td>0.076517</td>\n",
       "      <td>0.196338</td>\n",
       "      <td>0.174710</td>\n",
       "      <td>0.184357</td>\n",
       "      <td>0.136458</td>\n",
       "    </tr>\n",
       "    <tr>\n",
       "      <th>5</th>\n",
       "      <td>The X Factor</td>\n",
       "      <td>0.147812</td>\n",
       "      <td>0.075546</td>\n",
       "      <td>0.152456</td>\n",
       "      <td>0.143543</td>\n",
       "      <td>0.145704</td>\n",
       "      <td>0.183389</td>\n",
       "      <td>0.151551</td>\n",
       "    </tr>\n",
       "    <tr>\n",
       "      <th>6</th>\n",
       "      <td>Powerslave</td>\n",
       "      <td>0.176320</td>\n",
       "      <td>0.112152</td>\n",
       "      <td>0.161840</td>\n",
       "      <td>0.142201</td>\n",
       "      <td>0.155530</td>\n",
       "      <td>0.145353</td>\n",
       "      <td>0.106605</td>\n",
       "    </tr>\n",
       "    <tr>\n",
       "      <th>7</th>\n",
       "      <td>The Final Frontier</td>\n",
       "      <td>0.145918</td>\n",
       "      <td>0.076517</td>\n",
       "      <td>0.152930</td>\n",
       "      <td>0.174267</td>\n",
       "      <td>0.144793</td>\n",
       "      <td>0.171338</td>\n",
       "      <td>0.134238</td>\n",
       "    </tr>\n",
       "    <tr>\n",
       "      <th>8</th>\n",
       "      <td>A Matter of Life and Death</td>\n",
       "      <td>0.163334</td>\n",
       "      <td>0.109179</td>\n",
       "      <td>0.145193</td>\n",
       "      <td>0.137513</td>\n",
       "      <td>0.152207</td>\n",
       "      <td>0.165298</td>\n",
       "      <td>0.127276</td>\n",
       "    </tr>\n",
       "    <tr>\n",
       "      <th>9</th>\n",
       "      <td>Dance of Death</td>\n",
       "      <td>0.131566</td>\n",
       "      <td>0.087372</td>\n",
       "      <td>0.179032</td>\n",
       "      <td>0.162306</td>\n",
       "      <td>0.150411</td>\n",
       "      <td>0.180389</td>\n",
       "      <td>0.108925</td>\n",
       "    </tr>\n",
       "    <tr>\n",
       "      <th>10</th>\n",
       "      <td>The Number of The Beast</td>\n",
       "      <td>0.155781</td>\n",
       "      <td>0.094985</td>\n",
       "      <td>0.142004</td>\n",
       "      <td>0.134757</td>\n",
       "      <td>0.155196</td>\n",
       "      <td>0.173422</td>\n",
       "      <td>0.143855</td>\n",
       "    </tr>\n",
       "    <tr>\n",
       "      <th>11</th>\n",
       "      <td>Piece of Mind</td>\n",
       "      <td>0.189762</td>\n",
       "      <td>0.076594</td>\n",
       "      <td>0.165722</td>\n",
       "      <td>0.090583</td>\n",
       "      <td>0.173267</td>\n",
       "      <td>0.156941</td>\n",
       "      <td>0.147131</td>\n",
       "    </tr>\n",
       "    <tr>\n",
       "      <th>12</th>\n",
       "      <td>Fear of the Dark</td>\n",
       "      <td>0.136502</td>\n",
       "      <td>0.074464</td>\n",
       "      <td>0.170621</td>\n",
       "      <td>0.146598</td>\n",
       "      <td>0.153988</td>\n",
       "      <td>0.174197</td>\n",
       "      <td>0.143629</td>\n",
       "    </tr>\n",
       "    <tr>\n",
       "      <th>13</th>\n",
       "      <td>Virtual XI</td>\n",
       "      <td>0.123452</td>\n",
       "      <td>0.031094</td>\n",
       "      <td>0.201503</td>\n",
       "      <td>0.167875</td>\n",
       "      <td>0.157684</td>\n",
       "      <td>0.171219</td>\n",
       "      <td>0.147172</td>\n",
       "    </tr>\n",
       "    <tr>\n",
       "      <th>14</th>\n",
       "      <td>Seventh Son of a Seventh Son</td>\n",
       "      <td>0.179908</td>\n",
       "      <td>0.037752</td>\n",
       "      <td>0.152472</td>\n",
       "      <td>0.166376</td>\n",
       "      <td>0.158822</td>\n",
       "      <td>0.167729</td>\n",
       "      <td>0.136941</td>\n",
       "    </tr>\n",
       "  </tbody>\n",
       "</table>\n",
       "</div>"
      ],
      "text/plain": [
       "                           album     anger   disgust      fear       joy  \\\n",
       "0              Somewhere in Time  0.143259  0.061973  0.155086  0.164597   \n",
       "1                Brave New World  0.156258  0.078102  0.154397  0.150638   \n",
       "2              The Book of Souls  0.156154  0.069850  0.171218  0.140202   \n",
       "3                        Killers  0.169359  0.043273  0.132520  0.169735   \n",
       "4                    Iron maiden  0.160571  0.071049  0.076517  0.196338   \n",
       "5                   The X Factor  0.147812  0.075546  0.152456  0.143543   \n",
       "6                     Powerslave  0.176320  0.112152  0.161840  0.142201   \n",
       "7             The Final Frontier  0.145918  0.076517  0.152930  0.174267   \n",
       "8     A Matter of Life and Death  0.163334  0.109179  0.145193  0.137513   \n",
       "9                 Dance of Death  0.131566  0.087372  0.179032  0.162306   \n",
       "10       The Number of The Beast  0.155781  0.094985  0.142004  0.134757   \n",
       "11                 Piece of Mind  0.189762  0.076594  0.165722  0.090583   \n",
       "12              Fear of the Dark  0.136502  0.074464  0.170621  0.146598   \n",
       "13                    Virtual XI  0.123452  0.031094  0.201503  0.167875   \n",
       "14  Seventh Son of a Seventh Son  0.179908  0.037752  0.152472  0.166376   \n",
       "\n",
       "     neutral   sadness  surprise  \n",
       "0   0.155429  0.166833  0.152823  \n",
       "1   0.168099  0.171376  0.121130  \n",
       "2   0.156176  0.183328  0.123072  \n",
       "3   0.157858  0.191826  0.135430  \n",
       "4   0.174710  0.184357  0.136458  \n",
       "5   0.145704  0.183389  0.151551  \n",
       "6   0.155530  0.145353  0.106605  \n",
       "7   0.144793  0.171338  0.134238  \n",
       "8   0.152207  0.165298  0.127276  \n",
       "9   0.150411  0.180389  0.108925  \n",
       "10  0.155196  0.173422  0.143855  \n",
       "11  0.173267  0.156941  0.147131  \n",
       "12  0.153988  0.174197  0.143629  \n",
       "13  0.157684  0.171219  0.147172  \n",
       "14  0.158822  0.167729  0.136941  "
      ]
     },
     "execution_count": 60,
     "metadata": {},
     "output_type": "execute_result"
    }
   ],
   "source": [
    "aux"
   ]
  },
  {
   "cell_type": "code",
   "execution_count": 61,
   "metadata": {},
   "outputs": [],
   "source": [
    "def prepare_to_heat(df, albums):\n",
    "    data = []\n",
    "    emotions = ['anger', 'disgust', 'fear', 'joy', 'neutral', 'sadness', 'surprise']\n",
    "    \n",
    "    for album in albums:\n",
    "        for emotion in emotions:\n",
    "            # Criar um novo dicionário para cada iteração\n",
    "            dictionary = {'album': album, 'emotion': emotion, 'score': 0}\n",
    "            \n",
    "            # Localizar a linha no DataFrame e atribuir o valor ao dicionário\n",
    "            line = df.loc[df['album'] == album, emotion]\n",
    "            dictionary['score'] = line.iloc[0]\n",
    "            \n",
    "            # Adicionar o dicionário à lista\n",
    "            data.append(dictionary)\n",
    "\n",
    "    # Criar um DataFrame a partir da lista de dicionários\n",
    "    return pd.DataFrame(data)"
   ]
  },
  {
   "cell_type": "code",
   "execution_count": 62,
   "metadata": {},
   "outputs": [],
   "source": [
    "df_m = prepare_to_heat(aux, albums_maiden)\n",
    "df_t = prepare_to_heat(aux_ts, albums_tf)"
   ]
  },
  {
   "cell_type": "code",
   "execution_count": 63,
   "metadata": {},
   "outputs": [
    {
     "data": {
      "image/png": "[encoded data removed]",
      "text/plain": [
       "<Figure size 720x432 with 2 Axes>"
      ]
     },
     "metadata": {
      "needs_background": "light"
     },
     "output_type": "display_data"
    }
   ],
   "source": [
    "heatmap_data = df_t.pivot(index='emotion', columns='album', values='score')\n",
    "\n",
    "# Plotar o heatmap\n",
    "plt.figure(figsize=(10, 6))\n",
    "sns.heatmap(heatmap_data, annot=True, cmap='coolwarm', fmt=\".2f\", linewidths=.5)\n",
    "plt.title('Heatmap de Emoções por Álbum')\n",
    "plt.show()"
   ]
  },
  {
   "cell_type": "code",
   "execution_count": 64,
   "metadata": {},
   "outputs": [
    {
     "data": {
      "image/png": "[encoded data removed]",
      "text/plain": [
       "<Figure size 720x432 with 2 Axes>"
      ]
     },
     "metadata": {
      "needs_background": "light"
     },
     "output_type": "display_data"
    }
   ],
   "source": [
    "heatmap_data = df_m.pivot(index='emotion', columns='album', values='score')\n",
    "\n",
    "# Plotar o heatmap\n",
    "plt.figure(figsize=(10, 6))\n",
    "sns.heatmap(heatmap_data, annot=True, cmap='coolwarm', fmt=\".2f\", linewidths=.5)\n",
    "plt.title('Heatmap de Emoções por Álbum')\n",
    "plt.show()"
   ]
  },
  {
   "cell_type": "code",
   "execution_count": null,
   "metadata": {},
   "outputs": [],
   "source": []
  }
 ],
 "metadata": {
  "kernelspec": {
   "display_name": "Python 3",
   "language": "python",
   "name": "python3"
  },
  "language_info": {
   "codemirror_mode": {
    "name": "ipython",
    "version": 3
   },
   "file_extension": ".py",
   "mimetype": "text/x-python",
   "name": "python",
   "nbconvert_exporter": "python",
   "pygments_lexer": "ipython3",
   "version": "3.10.12"
  }
 },
 "nbformat": 4,
 "nbformat_minor": 2
}
